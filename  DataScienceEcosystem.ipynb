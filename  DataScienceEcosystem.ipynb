{
 "cells": [
  {
   "cell_type": "markdown",
   "id": "15a3289d-9b89-4efd-8c34-96d2495f1103",
   "metadata": {},
   "source": [
    "# Data Science Tools and Ecosystem"
   ]
  },
  {
   "cell_type": "markdown",
   "id": "4be81691-b897-4450-8465-d575fdf8a033",
   "metadata": {},
   "source": [
    "In this notebook, Data Science Tools and Ecosystem are summarized."
   ]
  },
  {
   "cell_type": "markdown",
   "id": "666efeae-9f07-4159-aeec-919d277ab248",
   "metadata": {},
   "source": [
    "**Objectives:**\n",
    "* List of popular Data Science Languages\n",
    "* List of commonly used libraries used by Data Scientists\n",
    "* Data Science Tools\n",
    "* Simple pieces of Python code"
   ]
  },
  {
   "cell_type": "markdown",
   "id": "64d80635-bd1d-4878-89c4-d212f59d62be",
   "metadata": {},
   "source": [
    "Some of the popular languages that Data Scientists use are:\n",
    "1. Python\n",
    "2. R\n",
    "3. SQL\n",
    "4. Julia\n",
    "5. Scala"
   ]
  },
  {
   "cell_type": "markdown",
   "id": "d3e33e86-0994-4d7b-8da4-8616088f5407",
   "metadata": {},
   "source": [
    "Some of the commonly used libraries used by Data Scientists include:\n",
    "1. numpy\n",
    "2. pandas\n",
    "3. matplotlib\n",
    "4. Scikit-learn\n",
    "5. TensorFlow "
   ]
  },
  {
   "cell_type": "markdown",
   "id": "ab335788-0872-48c9-a7f9-e6be77b1ce9b",
   "metadata": {},
   "source": [
    "| Data Science Tools       |\n",
    "|--------------------------|\n",
    "| Jupyter Notebook         |\n",
    "| RStudio                  |\n",
    "| Apache Zeppelin          |"
   ]
  },
  {
   "cell_type": "markdown",
   "id": "f5528d98-c370-4021-a804-bc9337ab1ae1",
   "metadata": {},
   "source": [
    "### Below are a few examples of evaluating arithmetic expressions in Python"
   ]
  },
  {
   "cell_type": "code",
   "execution_count": 8,
   "id": "2708a892-6cd7-43da-857b-62c43757c518",
   "metadata": {},
   "outputs": [
    {
     "data": {
      "text/plain": [
       "17"
      ]
     },
     "execution_count": 8,
     "metadata": {},
     "output_type": "execute_result"
    }
   ],
   "source": [
    "# This a simple arithmetic expression to mutiply then add integers\n",
    "(3*4)+5"
   ]
  },
  {
   "cell_type": "code",
   "execution_count": 9,
   "id": "e605d73b-5c77-4135-8467-06ce7d869f95",
   "metadata": {},
   "outputs": [
    {
     "data": {
      "text/plain": [
       "3.3333333333333335"
      ]
     },
     "execution_count": 9,
     "metadata": {},
     "output_type": "execute_result"
    }
   ],
   "source": [
    "# This will convert 200 minutes to hours by diving by 60\n",
    "minutes = 200\n",
    "hours = 200 / 60\n",
    "hours"
   ]
  },
  {
   "cell_type": "markdown",
   "id": "7ad90c34-1767-459e-bfbc-9be08be801a4",
   "metadata": {},
   "source": [
    "## Author\n",
    "Ekaterina Nestoklon"
   ]
  },
  {
   "cell_type": "code",
   "execution_count": null,
   "id": "0c496c6d-1417-42d7-afb2-c33b86714e96",
   "metadata": {},
   "outputs": [],
   "source": []
  }
 ],
 "metadata": {
  "kernelspec": {
   "display_name": "Python 3 (ipykernel)",
   "language": "python",
   "name": "python3"
  },
  "language_info": {
   "codemirror_mode": {
    "name": "ipython",
    "version": 3
   },
   "file_extension": ".py",
   "mimetype": "text/x-python",
   "name": "python",
   "nbconvert_exporter": "python",
   "pygments_lexer": "ipython3",
   "version": "3.13.5"
  }
 },
 "nbformat": 4,
 "nbformat_minor": 5
}
